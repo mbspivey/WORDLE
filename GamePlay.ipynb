{
 "cells": [
  {
   "cell_type": "markdown",
   "metadata": {},
   "source": [
    "<h1>WORDLE NOTEBOOK</h1>\n",
    "<h4>Using this space to flesh out the game mechanics</h4>"
   ]
  },
  {
   "cell_type": "code",
   "execution_count": 1,
   "metadata": {},
   "outputs": [],
   "source": [
    "#import libraries\n",
    "from colorama import Fore, Back, Style"
   ]
  },
  {
   "cell_type": "code",
   "execution_count": 10,
   "metadata": {},
   "outputs": [],
   "source": [
    "#set a correct answer (temporary)\n",
    "\n",
    "answer = 'meteor'"
   ]
  },
  {
   "cell_type": "code",
   "execution_count": 11,
   "metadata": {},
   "outputs": [
    {
     "name": "stdout",
     "output_type": "stream",
     "text": [
      "comet\n"
     ]
    }
   ],
   "source": [
    "#Taking a guess as a whole word\n",
    "#Will work on a way later to take in input as a list with each keystroke as an element\n",
    "\n",
    "guess = input()\n"
   ]
  },
  {
   "cell_type": "code",
   "execution_count": 12,
   "metadata": {},
   "outputs": [
    {
     "name": "stdout",
     "output_type": "stream",
     "text": [
      "['c', 'o', 'm', 'e', 't']\n"
     ]
    }
   ],
   "source": [
    "#Parse input string and re-save as a list\n",
    "\n",
    "guess_lst = []\n",
    "\n",
    "for i in guess:\n",
    "    guess_lst.append(i)\n",
    "\n",
    "print(guess_lst)   \n"
   ]
  },
  {
   "cell_type": "code",
   "execution_count": 13,
   "metadata": {},
   "outputs": [
    {
     "name": "stdout",
     "output_type": "stream",
     "text": [
      "c, \u001b[33mo\u001b[39m, \u001b[33mm\u001b[39m, \u001b[32me\u001b[39m, \u001b[33mt\u001b[39m\n"
     ]
    }
   ],
   "source": [
    "#testing some conditions for checking the user's guess\n",
    "index = 0\n",
    "checked = []\n",
    "\n",
    "for i in guess_lst:\n",
    "    \n",
    "    if i != answer[index] and i in answer:\n",
    "        guess_lst[index] = Fore.YELLOW + guess_lst[index] + Fore.RESET\n",
    "        \n",
    "    elif i == answer[index]:\n",
    "        #checked.append[Fore.GREEN + i]\n",
    "        guess_lst[index] = Fore.GREEN + guess_lst[index] + Fore.RESET\n",
    "    index += 1\n",
    "    \n",
    "#prints items in guess_lst one by one \n",
    "print(', '.join(str(item) for item in guess_lst))"
   ]
  },
  {
   "cell_type": "code",
   "execution_count": 14,
   "metadata": {},
   "outputs": [
    {
     "name": "stdout",
     "output_type": "stream",
     "text": [
      "I'm thinking of a mold that is 5 letters!\n",
      "You have 5 guesses...\n",
      "comet\n",
      "\u001b[33mc\u001b[39m, \u001b[32mo\u001b[39m, m, \u001b[33me\u001b[39m, t\n",
      "Guess again! 4 more guesses\n",
      "luna\n",
      "Don't forget! Your guess should be 5 letters.\n",
      "roach\n",
      "\u001b[33mr\u001b[39m, \u001b[32mo\u001b[39m, a, \u001b[32mc\u001b[39m, h\n",
      "Guess again! 3 more guesses\n",
      "force\n",
      "You got it!\n",
      "I was thinking of the \u001b[32mforce\u001b[39m!\n"
     ]
    }
   ],
   "source": [
    "#Attempting to combine everything into a loop \n",
    "\n",
    "#import libraries\n",
    "from colorama import Fore, Back, Style\n",
    "\n",
    "\n",
    "#set a correct answer (temporary) and store its length\n",
    "answer = 'force'\n",
    "\n",
    "ans_len = len(answer)\n",
    "\n",
    "\n",
    "#Taking a guess as a whole word\n",
    "#Will work on a way later to take in input as a list with each keystroke as an element via UI\n",
    "print('I\\'m thinking of a mold that is', ans_len, 'letters!')\n",
    "print('You have 5 guesses...')\n",
    "guess = input()\n",
    "\n",
    "\n",
    "#handle parsing limit errors\n",
    "#while len(guess) > ans_len or len(guess) < ans_len:\n",
    "#    print('Don\\'t forget! Your guess should be', ans_len, 'letters.')\n",
    "#    guess = input()\n",
    "\n",
    "    \n",
    "#set guess limit\n",
    "g_limit = 5\n",
    "\n",
    "g_count = 0\n",
    "\n",
    "for g in range(g_limit):\n",
    "    \n",
    "    if len(guess) > ans_len or len(guess) < ans_len:\n",
    "        print('Don\\'t forget! Your guess should be', ans_len, 'letters.')\n",
    "        guess = input()\n",
    "    \n",
    "    elif guess == answer:\n",
    "        print('You got it!')\n",
    "        print('I was thinking of the '+ Fore.GREEN + answer + Fore.RESET +'!')\n",
    "        break\n",
    "    \n",
    "    elif g == g_limit - 1:\n",
    "        print('Out of guesses!')\n",
    "        print('I was thinking of the '+ Fore.GREEN + answer + Fore.RESET +'!')\n",
    "    \n",
    "    else:\n",
    "        #Parse input string and re-save as a list\n",
    "        guess_lst = []\n",
    "\n",
    "        for i in guess:\n",
    "            guess_lst.append(i)\n",
    "\n",
    "\n",
    "        #testing conditions for checking the user's guess\n",
    "        index = 0\n",
    "\n",
    "        for i in guess_lst:\n",
    "            \n",
    "            if i != answer[index] and i in answer:\n",
    "                guess_lst[index] = Fore.YELLOW + guess_lst[index] + Fore.RESET\n",
    "\n",
    "            elif i == answer[index]:\n",
    "                guess_lst[index] = Fore.GREEN + guess_lst[index] + Fore.RESET\n",
    "            index += 1\n",
    "\n",
    "\n",
    "        #prints items in guess_lst one by one \n",
    "        print(', '.join(str(item) for item in guess_lst))\n",
    "\n",
    "        \n",
    "        #iterate guess count and prompt for next guess\n",
    "        g_count += 1\n",
    "        print('Guess again!', str(g_limit - g_count), 'more guesses')\n",
    "        \n",
    "        \n",
    "        #prompt next guess\n",
    "        guess = input()\n",
    "        \n"
   ]
  },
  {
   "cell_type": "code",
   "execution_count": null,
   "metadata": {},
   "outputs": [],
   "source": []
  }
 ],
 "metadata": {
  "kernelspec": {
   "display_name": "Python 3 (ipykernel)",
   "language": "python",
   "name": "python3"
  },
  "language_info": {
   "codemirror_mode": {
    "name": "ipython",
    "version": 3
   },
   "file_extension": ".py",
   "mimetype": "text/x-python",
   "name": "python",
   "nbconvert_exporter": "python",
   "pygments_lexer": "ipython3",
   "version": "3.10.9"
  }
 },
 "nbformat": 4,
 "nbformat_minor": 4
}
